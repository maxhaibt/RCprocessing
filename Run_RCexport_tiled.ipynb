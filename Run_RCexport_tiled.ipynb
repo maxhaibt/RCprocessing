{
 "cells": [
  {
   "cell_type": "code",
   "execution_count": null,
   "metadata": {},
   "outputs": [],
   "source": [
    "import shutil\n",
    "from subprocess import check_output\n",
    "from pathlib import Path\n",
    "import numpy as np\n",
    "import xml.etree.ElementTree as ET\n",
    "import os\n",
    "#import matplotlib.pyplot as plt\n",
    "import pandas as pd\n",
    "#from shapely.geometry import Polygon,\n",
    "import RClib as RClib\n",
    "#import objectdetectionlib as ODlib\n",
    "\n"
   ]
  },
  {
   "cell_type": "code",
   "execution_count": null,
   "metadata": {},
   "outputs": [],
   "source": [
    "%load_ext autoreload\n",
    "%autoreload 2\n",
    "\n",
    "config = RClib.loadconfigs('.\\config_sedimentcores.json')\n",
    "\n",
    "if Path(config['workspace'] + '/rcprocessingdf.pkl').is_file() and config['use_initialdf'] :\n",
    "    print('Read scandf from pickle')\n",
    "    scandf = pd.read_pickle(str(Path(config['workspace']) / 'rcprocessingdf.pkl'))\n",
    "else:\n",
    "    scandf = RClib.provide_scandf(inputdirectory=config['workspace'], imageformat = config['baseimageformat'])\n",
    "    if config['use_startpointtransformation']:\n",
    "        scandf = scandf.apply(RClib.createGCPfile_forsedimentcores, axis=1)\n",
    "    scandf= scandf.apply(RClib.defineRawTherapeeOutput, foldername='02_TIF', axis=1)\n",
    "    scandf= scandf.apply(RClib.defineRealityCaptureOutput, foldername='03_RC', axis=1)\n",
    "    #scandf.to_pickle(str(Path(config['workspace']) / 'rcprocessingdf.pkl'))\n",
    "\n",
    "for index, scan in scandf.iterrows():\n",
    "    #RClib.visualize_rcbox(scan['rcbox'])\n",
    "    print('Processing scan: ' + scan['id'])\n",
    "    print('Number of images: ' + str(len(scan['imagedf'])))\n",
    "    #print('Number of masks: ' + str(len(scan['imagedf'][scan['imagedf']['maskimg_path'].notnull()])))\n"
   ]
  },
  {
   "cell_type": "code",
   "execution_count": null,
   "metadata": {},
   "outputs": [],
   "source": [
    "scandf10 = pd.DataFrame()\n",
    "if config['texture']:\n",
    "    for index,scan in scandf9.iterrows():\n",
    "        scan = RClib.readProcessingstateFile(scan)\n",
    "        if RClib.checkProcessingstate(scan,command='reconstruct-rccmdpath'):\n",
    "            if not RClib.checkProcessingstate(scan,command='commandlist_texturingsettings'):\n",
    "                scan['commandlist_texturingsettings']=Path(config['texturingsettings'])\n",
    "                print('Texturing settings set for ', scan['id'])\n",
    "                RClib.executeRCCMDuseRCproject(scan, rccmdpathfield='commandlist_texturingsettings')\n",
    "            if not RClib.checkProcessingstate(scan,command='texturing-rccmdpath'):\n",
    "                scan['commandlist_texturing'] = []\n",
    "                if 'sedimentcores_selectstraight' in config and config['sedimentcores_selectstraight']:\n",
    "                    scan['commandlist_texturing'].append('-selectComponent ' + str(scan['id']) + '_frontal')\n",
    "                scan['commandlist_texturing'].append('-selectModel ' + scan['id'] + '_highpoly')\n",
    "                #scan['commandlist_texturing'].append('-selectLargestModelComponent')\n",
    "                #scan['commandlist_texturing'].append('-invertTrianglesSelection')\n",
    "                scan['commandlist_texturing'].append('-smooth')\n",
    "                scan['commandlist_texturing'].append('-correctColors geometry') \n",
    "                scan['commandlist_texturing'].append('-unwrap') \n",
    "                scan['commandlist_texturing'].append('-calculateTexture')\n",
    "                scan['commandlist_texturing'].append('-simplify '+ str(config['simplify_settings']))\n",
    "                scan['commandlist_texturing'].append('-renameSelectedModel ' + scan['id'] + '_100k')\n",
    "                scan['modelspaths'] = {'modelpath_100k': scan['Resultoutputfolder'] / Path(config['exportname_prefix'] + scan['id'] + '_100k.obj')}\n",
    "                print(scan['modelspaths'])\n",
    "                scan['commandlist_texturing'].append('-exportModel ' + scan['id'] + '_100k ' + str(scan['modelspaths'].get('modelpath_100k')) + ' ' + config['exportsettings1'] )\n",
    "                scan['commandlist_texturing'].append('-save')\n",
    "                scan['commandlist_texturing'].append('-quit')  \n",
    "                scan = RClib.makeRCCMDfromListfield(scan, commandlistfield='commandlist_texturing', rccmdpathfield='texturing-rccmdpath')\n",
    "                RClib.executeRCCMDuseRCproject(scan, rccmdpathfield='texturing-rccmdpath' )\n",
    "                RClib.writeProcessingstateFile(scan)\n",
    "        scandf10 = scandf10.append(scan)\n",
    "else:\n",
    "    scandf10=scandf9\n"
   ]
  },
  {
   "cell_type": "code",
   "execution_count": null,
   "metadata": {},
   "outputs": [],
   "source": [
    "if config['orthomosaic']:\n",
    "    for index,scan in scandf3.iterrows():\n",
    "        scan = RClib.readProcessingstateFile(scan)\n",
    "        if RClib.checkProcessingstate(scan,command='reconstruct-rccmdpath'):\n",
    "            if not RClib.checkProcessingstate(scan,command='commandlist_orthoimage'):\n",
    "                if 'constantorthobox' in config.keys() and Path(config['constantorthobox']).is_file():\n",
    "                    scan['orthoboxpath'] = Path(config['constantorthobox'])\n",
    "                    scan['commandlist_orthoimage'] = []\n",
    "                    scan['commandlist_orthoimage'].append('-selectModel ' + scan['id'] + '_highpoly') \n",
    "                    scan['commandlist_orthoimage'].append('-calculateOrthoProjection ' + scan['orthoboxpath'] ) \n",
    "                    scan['commandlist_orthoimage'].append('-exportOrthoProjection ' + scan['orthoboxpath'] ) \n",
    "            "
   ]
  },
  {
   "cell_type": "code",
   "execution_count": null,
   "metadata": {},
   "outputs": [],
   "source": [
    "%load_ext autoreload\n",
    "%autoreload 2\n",
    "if config['orthobox2gis']:\n",
    "    for index,scan in scandf.iterrows():\n",
    "        #print(scan.keys())\n",
    "        RClib.read_rcorthobox(scan)\n",
    "        #print(scan['orthobox'])\n",
    "        scan['orthobox'].to_file(config['workspace'] + '/Orthoboxes_utm38.shp', driver='ESRI Shapefile')"
   ]
  }
 ],
 "metadata": {
  "kernelspec": {
   "display_name": "RCapp",
   "language": "python",
   "name": "python3"
  },
  "language_info": {
   "codemirror_mode": {
    "name": "ipython",
    "version": 3
   },
   "file_extension": ".py",
   "mimetype": "text/x-python",
   "name": "python",
   "nbconvert_exporter": "python",
   "pygments_lexer": "ipython3",
   "version": "3.9.13"
  },
  "orig_nbformat": 4
 },
 "nbformat": 4,
 "nbformat_minor": 2
}
